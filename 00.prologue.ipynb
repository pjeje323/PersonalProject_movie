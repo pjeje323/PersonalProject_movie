{
 "cells": [
  {
   "cell_type": "markdown",
   "metadata": {},
   "source": [
    "# ============================================================="
   ]
  },
  {
   "cell_type": "markdown",
   "metadata": {},
   "source": [
    "## # Personal_ Project : "
   ]
  },
  {
   "cell_type": "markdown",
   "metadata": {},
   "source": [
    "# 재상영(재개봉) 영화 예측"
   ]
  },
  {
   "cell_type": "markdown",
   "metadata": {},
   "source": [
    "# ============================================================="
   ]
  },
  {
   "cell_type": "markdown",
   "metadata": {},
   "source": [
    " ### < Prologue >"
   ]
  },
  {
   "cell_type": "markdown",
   "metadata": {},
   "source": [
    "2015년부터 복고 열풍이 영화계에도 영향을 끼쳤다. 오랜 고전부터 장르 불문, 연령층 불문하고 영화 재개봉(재상영)의 스크린 수가 늘고있는 상황이다. \n",
    "개봉 당시엔 히트치지 않았던 작품이지만, 오랜시간 꾸준한 입소문에 힘입어 속속들이 영화관에서 다시 얼굴을 내밀고 있다. 당시 큰 스크린으로 관람하지 못했던 관람객들에게는 희소식이 아닐 수 없다. (영화를 좋아하는 나도 물론이고:D) 간혹 일부는 오히려 재개봉이 본 개봉 기록을 갈아엎는 경우도 발생하고 있다는데!? \n",
    "\n",
    "**여기서 잠깐! **      \n",
    " *혹시 재상영 또는 재개봉 영화를 선정하는 기준이 있을까? 지금까지 재상영된 영화들 사이에 특정한 패턴이 숨어있을까? *    \n",
    "  \n",
    " --------------------------------------------------------------------------------------------------------------------------------------\n",
    "  데이터를 수집하는 과정은 그리 녹록치 않았다.    \n",
    "  다양한 변수들이 방영에 영향을 미칠 것이라 가정했지만, 변수의 공란을 채워줄 날 것의(?) 데이터조차 찾아내는 것도 쉽지 않았다.    \n",
    "  일부는 크롤러를 만들어 가동시켰지만,      \n",
    "  다른 일부는 별점을 모으는 과정에서 한글이름과 영문이름 가릴 것 없이 중복되는 영화들(문장이 아닌 단어 제목!)에 대해 오작동을 일으켜     \n",
    "  어쩔 수 없이 직접 긁어모을 수밖에 없었다...(T^T) 명절에 방영되었던 영화들 역시 직접 검색을 통해 하나하나 체크하면서 데이터를 완성시켰다!   \n",
    "  \n",
    "  그렇게 야금야금, 어마어마한 양을 완성한 데이터테이블을 보고있노라면 괜시리 뿌듯하다.(덩실덩실)\n",
    "  \n",
    "  \n",
    "  기쁨은 잠시 고이 접어두고, 내가 스스로에게 던진 질문에 명쾌한 답변을 얻기 위해 분석을 시작해보자.\n",
    "\n",
    " --------------------------------------------------------------------------------------------------------------------------------------\n",
    " \n",
    "### 과연 어떤 영화들을 다시 스크린에서 만날 수 있을까?:D"
   ]
  },
  {
   "cell_type": "markdown",
   "metadata": {},
   "source": [
    "## Data\n",
    "\n",
    "- 출처\n",
    " - 영화진흥위원회 (http://www.kofic.or.kr/kofic/business/main/main.do)\n",
    " - 네이버 영화 (http://movie.naver.com/)\n",
    " - 네이버 search (설,추석 명절에 지상파 3사에 방영되었던 영화)"
   ]
  },
  {
   "cell_type": "markdown",
   "metadata": {},
   "source": [
    "# --------------------------------------------------------------------------------------------------"
   ]
  },
  {
   "cell_type": "markdown",
   "metadata": {},
   "source": [
    "## 전체 데이터 훑어보기"
   ]
  },
  {
   "cell_type": "code",
   "execution_count": 3,
   "metadata": {
    "collapsed": true
   },
   "outputs": [],
   "source": [
    "import pandas as pd"
   ]
  },
  {
   "cell_type": "code",
   "execution_count": 4,
   "metadata": {
    "collapsed": false
   },
   "outputs": [
    {
     "data": {
      "text/html": [
       "<div>\n",
       "<table border=\"1\" class=\"dataframe\">\n",
       "  <thead>\n",
       "    <tr style=\"text-align: right;\">\n",
       "      <th></th>\n",
       "      <th>Name</th>\n",
       "      <th>Code</th>\n",
       "      <th>Genre</th>\n",
       "      <th>Level</th>\n",
       "      <th>RunningTime</th>\n",
       "      <th>Country</th>\n",
       "      <th>Released</th>\n",
       "      <th>Published</th>\n",
       "      <th>Win</th>\n",
       "      <th>WholeAud</th>\n",
       "      <th>SeoulAud</th>\n",
       "      <th>PoSA</th>\n",
       "      <th>NoScreen</th>\n",
       "      <th>NoShow</th>\n",
       "      <th>BoxOffice</th>\n",
       "      <th>TV</th>\n",
       "      <th>Score</th>\n",
       "      <th>Rescreen</th>\n",
       "    </tr>\n",
       "  </thead>\n",
       "  <tbody>\n",
       "    <tr>\n",
       "      <th>0</th>\n",
       "      <td>바람피기 좋은 날</td>\n",
       "      <td>20060421</td>\n",
       "      <td>drama</td>\n",
       "      <td>adult</td>\n",
       "      <td>103</td>\n",
       "      <td>korea</td>\n",
       "      <td>2007-02-08</td>\n",
       "      <td>2007</td>\n",
       "      <td>0</td>\n",
       "      <td>1708979</td>\n",
       "      <td>551815</td>\n",
       "      <td>32.3</td>\n",
       "      <td>1016</td>\n",
       "      <td>39823</td>\n",
       "      <td>1</td>\n",
       "      <td>0</td>\n",
       "      <td>5.77</td>\n",
       "      <td>0</td>\n",
       "    </tr>\n",
       "    <tr>\n",
       "      <th>1</th>\n",
       "      <td>운명의 산 낭가 파르밧</td>\n",
       "      <td>20134142</td>\n",
       "      <td>drama</td>\n",
       "      <td>all</td>\n",
       "      <td>104</td>\n",
       "      <td>germany</td>\n",
       "      <td>2013-12-12</td>\n",
       "      <td>2010</td>\n",
       "      <td>0</td>\n",
       "      <td>805</td>\n",
       "      <td>530</td>\n",
       "      <td>65.8</td>\n",
       "      <td>13</td>\n",
       "      <td>64</td>\n",
       "      <td>0</td>\n",
       "      <td>0</td>\n",
       "      <td>7.61</td>\n",
       "      <td>1</td>\n",
       "    </tr>\n",
       "    <tr>\n",
       "      <th>2</th>\n",
       "      <td>색, 계</td>\n",
       "      <td>20070582</td>\n",
       "      <td>drama</td>\n",
       "      <td>adult</td>\n",
       "      <td>157</td>\n",
       "      <td>usa</td>\n",
       "      <td>2007-11-08</td>\n",
       "      <td>2007</td>\n",
       "      <td>0</td>\n",
       "      <td>1924678</td>\n",
       "      <td>735351</td>\n",
       "      <td>38.2</td>\n",
       "      <td>1335</td>\n",
       "      <td>40654</td>\n",
       "      <td>1</td>\n",
       "      <td>0</td>\n",
       "      <td>8.51</td>\n",
       "      <td>1</td>\n",
       "    </tr>\n",
       "    <tr>\n",
       "      <th>3</th>\n",
       "      <td>철콘 근크리트</td>\n",
       "      <td>20070394</td>\n",
       "      <td>ani</td>\n",
       "      <td>over15</td>\n",
       "      <td>110</td>\n",
       "      <td>japan</td>\n",
       "      <td>2007-08-02</td>\n",
       "      <td>2006</td>\n",
       "      <td>0</td>\n",
       "      <td>280</td>\n",
       "      <td>280</td>\n",
       "      <td>100.0</td>\n",
       "      <td>4</td>\n",
       "      <td>24</td>\n",
       "      <td>0</td>\n",
       "      <td>0</td>\n",
       "      <td>8.24</td>\n",
       "      <td>1</td>\n",
       "    </tr>\n",
       "    <tr>\n",
       "      <th>4</th>\n",
       "      <td>데스노트 : 라스트 네임</td>\n",
       "      <td>20060405</td>\n",
       "      <td>crime</td>\n",
       "      <td>over12</td>\n",
       "      <td>139</td>\n",
       "      <td>japan</td>\n",
       "      <td>2007-01-10</td>\n",
       "      <td>2006</td>\n",
       "      <td>0</td>\n",
       "      <td>563056</td>\n",
       "      <td>147103</td>\n",
       "      <td>26.1</td>\n",
       "      <td>560</td>\n",
       "      <td>14439</td>\n",
       "      <td>0</td>\n",
       "      <td>0</td>\n",
       "      <td>8.27</td>\n",
       "      <td>0</td>\n",
       "    </tr>\n",
       "  </tbody>\n",
       "</table>\n",
       "</div>"
      ],
      "text/plain": [
       "            Name      Code  Genre   Level  RunningTime  Country    Released  \\\n",
       "0      바람피기 좋은 날  20060421  drama   adult          103    korea  2007-02-08   \n",
       "1   운명의 산 낭가 파르밧  20134142  drama     all          104  germany  2013-12-12   \n",
       "2           색, 계  20070582  drama   adult          157      usa  2007-11-08   \n",
       "3        철콘 근크리트  20070394    ani  over15          110    japan  2007-08-02   \n",
       "4  데스노트 : 라스트 네임  20060405  crime  over12          139    japan  2007-01-10   \n",
       "\n",
       "   Published  Win  WholeAud  SeoulAud   PoSA  NoScreen  NoShow  BoxOffice  TV  \\\n",
       "0       2007    0   1708979    551815   32.3      1016   39823          1   0   \n",
       "1       2010    0       805       530   65.8        13      64          0   0   \n",
       "2       2007    0   1924678    735351   38.2      1335   40654          1   0   \n",
       "3       2006    0       280       280  100.0         4      24          0   0   \n",
       "4       2006    0    563056    147103   26.1       560   14439          0   0   \n",
       "\n",
       "   Score  Rescreen  \n",
       "0   5.77         0  \n",
       "1   7.61         1  \n",
       "2   8.51         1  \n",
       "3   8.24         1  \n",
       "4   8.27         0  "
      ]
     },
     "execution_count": 4,
     "metadata": {},
     "output_type": "execute_result"
    }
   ],
   "source": [
    "# 데이터 불러오기\n",
    "df = pd.read_excel('movie_data.xlsx',sheetname = 1)\n",
    "df.head()"
   ]
  },
  {
   "cell_type": "code",
   "execution_count": 5,
   "metadata": {
    "collapsed": false
   },
   "outputs": [
    {
     "data": {
      "text/plain": [
       "(2000, 18)"
      ]
     },
     "execution_count": 5,
     "metadata": {},
     "output_type": "execute_result"
    }
   ],
   "source": [
    "df.shape"
   ]
  },
  {
   "cell_type": "markdown",
   "metadata": {},
   "source": [
    "# ============================================================="
   ]
  },
  {
   "cell_type": "markdown",
   "metadata": {},
   "source": [
    "# Feature 분석"
   ]
  },
  {
   "cell_type": "markdown",
   "metadata": {},
   "source": [
    "### \\*  ** Target Value** : **'Rescreen'** => 0 or 1"
   ]
  },
  {
   "cell_type": "markdown",
   "metadata": {},
   "source": [
    "1.  **Name, Code, Released**는 분석과 무관하므로 **Drop!**\n",
    "2.  **Code**는 release된 시기에 부여되는 숫자인 거 같은데, 개봉순서를 나타내나?      \n",
    "-> **Published**와 깊은 관계가 있을 것으로 보인다. => 둘 중 하나를 삭제해서 상관관계를 낮추자 ==> **Code 삭제!**\n",
    "3. 카테고리값인 **Genre**(대표장르)/**level**/**Country**(대표국가)는 **더미 변수**로 바꿔주자!  \n",
    "4. **Win**(수상여부)/**BoxOffice**(해당년도 50위 이내 여부)는 **1/0**값."
   ]
  },
  {
   "cell_type": "markdown",
   "metadata": {},
   "source": [
    "- **PoSA**(서울관객점유율)과 **SeoulAud**(서울관객수)는 너무 자명하게 높은 상관관계를 가진다 ==> SeoulAud 삭제!\n",
    "- **BoxOffice**와 **WholeAud**와도 깊은 상관관계가 있을 것으로 예상된다 ==> 분석한 후 검토"
   ]
  },
  {
   "cell_type": "markdown",
   "metadata": {},
   "source": [
    "# ============================================================="
   ]
  }
 ],
 "metadata": {
  "kernelspec": {
   "display_name": "Python 2",
   "language": "python",
   "name": "python2"
  },
  "language_info": {
   "codemirror_mode": {
    "name": "ipython",
    "version": 2
   },
   "file_extension": ".py",
   "mimetype": "text/x-python",
   "name": "python",
   "nbconvert_exporter": "python",
   "pygments_lexer": "ipython2",
   "version": "2.7.12"
  }
 },
 "nbformat": 4,
 "nbformat_minor": 1
}
