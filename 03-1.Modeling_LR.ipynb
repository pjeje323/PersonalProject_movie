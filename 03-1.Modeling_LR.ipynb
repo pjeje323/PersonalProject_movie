{
 "cells": [
  {
   "cell_type": "markdown",
   "metadata": {},
   "source": [
    "# ============================================================="
   ]
  },
  {
   "cell_type": "markdown",
   "metadata": {},
   "source": [
    "#  modeling - Logistic Regression"
   ]
  },
  {
   "cell_type": "markdown",
   "metadata": {},
   "source": [
    "# ============================================================="
   ]
  },
  {
   "cell_type": "code",
   "execution_count": 2,
   "metadata": {
    "collapsed": true
   },
   "outputs": [],
   "source": [
    "import pandas as pd\n",
    "df0 = pd.read_excel('preprocess0.xlsx',sheetname = 0)\n",
    "y = df0['Rescreen'].as_matrix().astype('int')"
   ]
  },
  {
   "cell_type": "code",
   "execution_count": 3,
   "metadata": {
    "collapsed": false
   },
   "outputs": [],
   "source": [
    "df00 = pd.read_excel(\"Feature_Optimized_df0_s_all.xlsx\") # scale(df0) + dummies + binary\n",
    "df01 = pd.read_excel(\"Feature_Optimized_df0_s_M_all.xlsx\") # scale(df0) + modified dummies + binary\n",
    "df02 = pd.read_excel(\"Feature_Optimized_df0_rs_all.xlsx\")  # robust_scale(df0) + dummies + binary\n",
    "df03 = pd.read_excel(\"Feature_Optimized_df0_rs_M_all.xlsx\") # robust_scale(df0) + modified dummies + binary\n",
    "df10 = pd.read_excel(\"Feature_Optimized_df1_s_all.xlsx\")   # scale(df1) + dummies + binary\n",
    "df11 = pd.read_excel(\"Feature_Optimized_df1_s_M_all.xlsx\")  # scale(df1) + modified dummies + binary\n",
    "df12 = pd.read_excel(\"Feature_Optimized_df1_rs_all.xlsx\")  # robust_scale(df1) + dummies + binary\n",
    "df13 = pd.read_excel(\"Feature_Optimized_df1_rs_M_all.xlsx\")  # robust_scale(df1) + modified dummies + binary\n",
    "\n",
    "df_00 = df00.as_matrix()\n",
    "df_01 = df01.as_matrix()\n",
    "df_02 = df02.as_matrix()\n",
    "df_03 = df03.as_matrix()\n",
    "df_10 = df10.as_matrix()\n",
    "df_11 = df11.as_matrix()\n",
    "df_12 = df12.as_matrix()\n",
    "df_13 = df13.as_matrix()"
   ]
  },
  {
   "cell_type": "code",
   "execution_count": 4,
   "metadata": {
    "collapsed": false
   },
   "outputs": [
    {
     "data": {
      "text/plain": [
       "((2000,), (2000, 85))"
      ]
     },
     "execution_count": 4,
     "metadata": {},
     "output_type": "execute_result"
    }
   ],
   "source": [
    "y.shape, df00.shape"
   ]
  },
  {
   "cell_type": "markdown",
   "metadata": {},
   "source": [
    "# 1. Logistic Regression"
   ]
  },
  {
   "cell_type": "code",
   "execution_count": 5,
   "metadata": {
    "collapsed": false
   },
   "outputs": [],
   "source": [
    "import statsmodels.api as sm\n",
    "from sklearn.cross_validation import KFold, StratifiedKFold, train_test_split\n",
    "from sklearn.linear_model import LogisticRegression\n",
    "from sklearn.metrics import classification_report"
   ]
  },
  {
   "cell_type": "code",
   "execution_count": 6,
   "metadata": {
    "collapsed": false
   },
   "outputs": [
    {
     "name": "stdout",
     "output_type": "stream",
     "text": [
      "             precision    recall  f1-score   support\n",
      "\n",
      "          0       0.84      0.98      0.91       417\n",
      "          1       0.42      0.06      0.11        83\n",
      "\n",
      "avg / total       0.77      0.83      0.77       500\n",
      "\n",
      "             precision    recall  f1-score   support\n",
      "\n",
      "          0       0.84      0.99      0.91       417\n",
      "          1       0.50      0.04      0.07        83\n",
      "\n",
      "avg / total       0.78      0.83      0.77       500\n",
      "\n",
      "             precision    recall  f1-score   support\n",
      "\n",
      "          0       0.84      0.98      0.91       417\n",
      "          1       0.42      0.06      0.11        83\n",
      "\n",
      "avg / total       0.77      0.83      0.77       500\n",
      "\n",
      "             precision    recall  f1-score   support\n",
      "\n",
      "          0       0.84      0.99      0.91       417\n",
      "          1       0.50      0.04      0.07        83\n",
      "\n",
      "avg / total       0.78      0.83      0.77       500\n",
      "\n"
     ]
    }
   ],
   "source": [
    "X00 = sm.add_constant(df00)\n",
    "X_train, X_test, y_train, y_test = train_test_split(X00, y, test_size=0.25, random_state=100)\n",
    "model_LR = LogisticRegression().fit(X_train, y_train)\n",
    "y_pred = model_LR.predict(X_test)\n",
    "print classification_report(y_test, y_pred)\n",
    "\n",
    "X01 = sm.add_constant(df01)\n",
    "X_train, X_test, y_train, y_test = train_test_split(X01, y, test_size=0.25, random_state=100)\n",
    "model_LR = LogisticRegression().fit(X_train, y_train)\n",
    "y_pred = model_LR.predict(X_test)\n",
    "print classification_report(y_test, y_pred)\n",
    "\n",
    "X02 = sm.add_constant(df02)\n",
    "X_train, X_test, y_train, y_test = train_test_split(X02, y, test_size=0.25, random_state=100)\n",
    "model_LR = LogisticRegression().fit(X_train, y_train)\n",
    "y_pred = model_LR.predict(X_test)\n",
    "print classification_report(y_test, y_pred)\n",
    "\n",
    "X03 = sm.add_constant(df03)\n",
    "X_train, X_test, y_train, y_test = train_test_split(X03, y, test_size=0.25, random_state=100)\n",
    "model_LR = LogisticRegression().fit(X_train, y_train)\n",
    "y_pred = model_LR.predict(X_test)\n",
    "print classification_report(y_test, y_pred)"
   ]
  },
  {
   "cell_type": "code",
   "execution_count": null,
   "metadata": {
    "collapsed": true
   },
   "outputs": [],
   "source": [
    "# modified한 feature들이 들어간 모델이 accuracy가 높다.\n",
    "# scaling 방법마다 차이가 없다."
   ]
  },
  {
   "cell_type": "code",
   "execution_count": 9,
   "metadata": {
    "collapsed": false,
    "scrolled": true
   },
   "outputs": [
    {
     "data": {
      "image/png": "[encoded data removed]",
      "text/plain": [
       "<matplotlib.figure.Figure at 0x66365d0>"
      ]
     },
     "metadata": {},
     "output_type": "display_data"
    }
   ],
   "source": [
    "from sklearn.metrics import roc_curve\n",
    "import matplotlib.pylab as plt\n",
    "\n",
    "X01 = sm.add_constant(df01)\n",
    "X_train, X_test, y_train, y_test = train_test_split(X01, y, test_size=0.25, random_state=100)\n",
    "model_LR = LogisticRegression().fit(X_train, y_train)\n",
    "y_pred = model_LR.predict(X_test)\n",
    "\n",
    "fpr, tpr, thresholds = roc_curve(y, model_LR.decision_function(X01))\n",
    "\n",
    "plt.plot(fpr, tpr)\n",
    "plt.plot([0, 1], [0, 1], 'k--')\n",
    "plt.xlabel('False positive Rate (Fall-Out)')\n",
    "plt.ylabel('True Positive rate (recall)')\n",
    "plt.show()"
   ]
  },
  {
   "cell_type": "code",
   "execution_count": 10,
   "metadata": {
    "collapsed": false
   },
   "outputs": [
    {
     "name": "stdout",
     "output_type": "stream",
     "text": [
      "             precision    recall  f1-score   support\n",
      "\n",
      "          0       0.84      0.98      0.91       417\n",
      "          1       0.42      0.06      0.11        83\n",
      "\n",
      "avg / total       0.77      0.83      0.77       500\n",
      "\n",
      "             precision    recall  f1-score   support\n",
      "\n",
      "          0       0.84      0.99      0.91       417\n",
      "          1       0.50      0.04      0.07        83\n",
      "\n",
      "avg / total       0.78      0.83      0.77       500\n",
      "\n",
      "             precision    recall  f1-score   support\n",
      "\n",
      "          0       0.84      0.98      0.91       417\n",
      "          1       0.42      0.06      0.11        83\n",
      "\n",
      "avg / total       0.77      0.83      0.77       500\n",
      "\n",
      "             precision    recall  f1-score   support\n",
      "\n",
      "          0       0.84      0.99      0.91       417\n",
      "          1       0.50      0.04      0.07        83\n",
      "\n",
      "avg / total       0.78      0.83      0.77       500\n",
      "\n"
     ]
    }
   ],
   "source": [
    "X10 = sm.add_constant(df10)\n",
    "X_train, X_test, y_train, y_test = train_test_split(X10, y, test_size=0.25, random_state=100)\n",
    "model_LR = LogisticRegression().fit(X_train, y_train)\n",
    "y_pred = model_LR.predict(X_test)\n",
    "print classification_report(y_test, y_pred)\n",
    "\n",
    "X11 = sm.add_constant(df11)\n",
    "X_train, X_test, y_train, y_test = train_test_split(X11, y, test_size=0.25, random_state=100)\n",
    "model_LR = LogisticRegression().fit(X_train, y_train)\n",
    "y_pred = model_LR.predict(X_test)\n",
    "print classification_report(y_test, y_pred)\n",
    "\n",
    "X12 = sm.add_constant(df12)\n",
    "X_train, X_test, y_train, y_test = train_test_split(X12, y, test_size=0.25, random_state=100)\n",
    "model_LR = LogisticRegression().fit(X_train, y_train)\n",
    "y_pred = model_LR.predict(X_test)\n",
    "print classification_report(y_test, y_pred)\n",
    "\n",
    "X13 = sm.add_constant(df13)\n",
    "X_train, X_test, y_train, y_test = train_test_split(X13, y, test_size=0.25, random_state=100)\n",
    "model_LR = LogisticRegression().fit(X_train, y_train)\n",
    "y_pred = model_LR.predict(X_test)\n",
    "print classification_report(y_test, y_pred)"
   ]
  },
  {
   "cell_type": "code",
   "execution_count": 12,
   "metadata": {
    "collapsed": false
   },
   "outputs": [
    {
     "name": "stdout",
     "output_type": "stream",
     "text": [
      "             precision    recall  f1-score   support\n",
      "\n",
      "          0       0.84      0.99      0.91       417\n",
      "          1       0.50      0.04      0.07        83\n",
      "\n",
      "avg / total       0.78      0.83      0.77       500\n",
      "\n"
     ]
    },
    {
     "data": {
      "image/png": "[encoded data removed]",
      "text/plain": [
       "<matplotlib.figure.Figure at 0xa2d7850>"
      ]
     },
     "metadata": {},
     "output_type": "display_data"
    }
   ],
   "source": [
    "X13 = sm.add_constant(df13)\n",
    "X_train, X_test, y_train, y_test = train_test_split(X13, y, test_size=0.25, random_state=100)\n",
    "model_LR = LogisticRegression().fit(X_train, y_train)\n",
    "y_pred = model_LR.predict(X_test)\n",
    "print classification_report(y_test, y_pred)\n",
    "\n",
    "fpr, tpr, thresholds = roc_curve(y, model_LR.decision_function(X13))\n",
    "\n",
    "plt.plot(fpr, tpr)\n",
    "plt.plot([0, 1], [0, 1], 'k--')\n",
    "plt.xlabel('False positive Rate (Fall-Out)')\n",
    "plt.ylabel('True Positive rate (recall)')\n",
    "plt.show()"
   ]
  },
  {
   "cell_type": "code",
   "execution_count": 13,
   "metadata": {
    "collapsed": false,
    "scrolled": true
   },
   "outputs": [
    {
     "name": "stdout",
     "output_type": "stream",
     "text": [
      "             precision    recall  f1-score   support\n",
      "\n",
      "          0       0.83      0.99      0.91       417\n",
      "          1       0.25      0.01      0.02        83\n",
      "\n",
      "avg / total       0.74      0.83      0.76       500\n",
      "\n"
     ]
    },
    {
     "data": {
      "image/png": "[encoded data removed]",
      "text/plain": [
       "<matplotlib.figure.Figure at 0xa55f970>"
      ]
     },
     "metadata": {},
     "output_type": "display_data"
    }
   ],
   "source": [
    "df00_n = df01.drop(df01.ix[:,'genre1':'USA'],axis = 1) # dummies를 제거한 데이터로\n",
    "\n",
    "X00_n = sm.add_constant(df00_n)\n",
    "X_train, X_test, y_train, y_test = train_test_split(X00_n, y, test_size=0.25, random_state=100)\n",
    "model_LR = LogisticRegression().fit(X_train, y_train)\n",
    "y_pred = model_LR.predict(X_test)\n",
    "print classification_report(y_test, y_pred)\n",
    "\n",
    "fpr, tpr, thresholds = roc_curve(y, model_LR.decision_function(X00_n))\n",
    "\n",
    "plt.plot(fpr, tpr)\n",
    "plt.plot([0, 1], [0, 1], 'k--')\n",
    "plt.xlabel('False positive Rate (Fall-Out)')\n",
    "plt.ylabel('True Positive rate (recall)')\n",
    "plt.show()"
   ]
  },
  {
   "cell_type": "code",
   "execution_count": null,
   "metadata": {
    "collapsed": true
   },
   "outputs": [],
   "source": [
    "# 더미변수를 없애니 성능이 저하되었다."
   ]
  },
  {
   "cell_type": "code",
   "execution_count": null,
   "metadata": {
    "collapsed": false,
    "scrolled": true
   },
   "outputs": [],
   "source": [
    "df00_n = df01.drop(df01.ix[:,'RunningTime':'Score'],axis = 1) # numerical values를 제거한 데이터로\n",
    "\n",
    "X00_n = sm.add_constant(df00_n)\n",
    "X_train, X_test, y_train, y_test = train_test_split(X00_n, y, test_size=0.25, random_state=100)\n",
    "model_LR1 = LogisticRegression().fit(X_train, y_train)\n",
    "y_pred = model_LR1.predict(X_test)\n",
    "print classification_report(y_test, y_pred)\n",
    "\n",
    "fpr, tpr, thresholds = roc_curve(y, model_LR1.decision_function(X00_n))\n",
    "\n",
    "plt.plot(fpr, tpr)\n",
    "plt.plot([0, 1], [0, 1], 'k--')\n",
    "plt.xlabel('False positive Rate (Fall-Out)')\n",
    "plt.ylabel('True Positive rate (recall)')\n",
    "plt.show()"
   ]
  },
  {
   "cell_type": "code",
   "execution_count": null,
   "metadata": {
    "collapsed": true
   },
   "outputs": [],
   "source": [
    "# binary & modified dummies로 만든 모델의 precision이 높게 나왔다!"
   ]
  },
  {
   "cell_type": "code",
   "execution_count": 42,
   "metadata": {
    "collapsed": false
   },
   "outputs": [
    {
     "name": "stdout",
     "output_type": "stream",
     "text": [
      "             precision    recall  f1-score   support\n",
      "\n",
      "          0       0.83      0.99      0.91       417\n",
      "          1       0.00      0.00      0.00        83\n",
      "\n",
      "avg / total       0.69      0.83      0.76       500\n",
      "\n"
     ]
    },
    {
     "data": {
      "image/png": "[encoded data removed]",
      "text/plain": [
       "<matplotlib.figure.Figure at 0xa8a5c90>"
      ]
     },
     "metadata": {},
     "output_type": "display_data"
    }
   ],
   "source": [
    "df00_n = df00.drop(df00.ix[:,'RunningTime':'Score'],axis = 1) # dummies를 제거한 데이터로\n",
    "\n",
    "X00_n = sm.add_constant(df00_n)\n",
    "X_train, X_test, y_train, y_test = train_test_split(X00_n, y, test_size=0.25, random_state=100)\n",
    "model_LR = LogisticRegression().fit(X_train, y_train)\n",
    "y_pred = model_LR.predict(X_test)\n",
    "print classification_report(y_test, y_pred)\n",
    "\n",
    "fpr, tpr, thresholds = roc_curve(y, model_LR.decision_function(X00_n))\n",
    "\n",
    "plt.plot(fpr, tpr)\n",
    "plt.plot([0, 1], [0, 1], 'k--')\n",
    "plt.xlabel('False positive Rate (Fall-Out)')\n",
    "plt.ylabel('True Positive rate (recall)')\n",
    "plt.show()"
   ]
  },
  {
   "cell_type": "code",
   "execution_count": null,
   "metadata": {
    "collapsed": true
   },
   "outputs": [],
   "source": [
    "# dummy와 binary로 충분히 높은 accuracy가 나온다"
   ]
  },
  {
   "cell_type": "code",
   "execution_count": null,
   "metadata": {
    "collapsed": true
   },
   "outputs": [],
   "source": [
    "# Test_set으로 모델 확인"
   ]
  },
  {
   "cell_type": "code",
   "execution_count": 32,
   "metadata": {
    "collapsed": false
   },
   "outputs": [
    {
     "data": {
      "text/html": [
       "<div>\n",
       "<table border=\"1\" class=\"dataframe\">\n",
       "  <thead>\n",
       "    <tr style=\"text-align: right;\">\n",
       "      <th></th>\n",
       "      <th>Genre</th>\n",
       "      <th>Level</th>\n",
       "      <th>RunningTime</th>\n",
       "      <th>Country</th>\n",
       "      <th>Published</th>\n",
       "      <th>Win</th>\n",
       "      <th>WholeAud</th>\n",
       "      <th>PoSA</th>\n",
       "      <th>BoxOffice</th>\n",
       "      <th>TV</th>\n",
       "      <th>Score</th>\n",
       "    </tr>\n",
       "  </thead>\n",
       "  <tbody>\n",
       "    <tr>\n",
       "      <th>0</th>\n",
       "      <td>drama</td>\n",
       "      <td>adult</td>\n",
       "      <td>120</td>\n",
       "      <td>italia</td>\n",
       "      <td>2009</td>\n",
       "      <td>0</td>\n",
       "      <td>35531</td>\n",
       "      <td>78.3</td>\n",
       "      <td>0</td>\n",
       "      <td>0</td>\n",
       "      <td>7.93</td>\n",
       "    </tr>\n",
       "    <tr>\n",
       "      <th>1</th>\n",
       "      <td>drama</td>\n",
       "      <td>over15</td>\n",
       "      <td>54</td>\n",
       "      <td>korea</td>\n",
       "      <td>2009</td>\n",
       "      <td>0</td>\n",
       "      <td>5249</td>\n",
       "      <td>67.7</td>\n",
       "      <td>0</td>\n",
       "      <td>0</td>\n",
       "      <td>7.52</td>\n",
       "    </tr>\n",
       "    <tr>\n",
       "      <th>2</th>\n",
       "      <td>drama</td>\n",
       "      <td>over12</td>\n",
       "      <td>111</td>\n",
       "      <td>usa</td>\n",
       "      <td>2009</td>\n",
       "      <td>0</td>\n",
       "      <td>73309</td>\n",
       "      <td>34.4</td>\n",
       "      <td>0</td>\n",
       "      <td>0</td>\n",
       "      <td>8.38</td>\n",
       "    </tr>\n",
       "    <tr>\n",
       "      <th>3</th>\n",
       "      <td>comedy</td>\n",
       "      <td>all</td>\n",
       "      <td>83</td>\n",
       "      <td>france</td>\n",
       "      <td>2002</td>\n",
       "      <td>0</td>\n",
       "      <td>28799</td>\n",
       "      <td>57.1</td>\n",
       "      <td>0</td>\n",
       "      <td>0</td>\n",
       "      <td>8.78</td>\n",
       "    </tr>\n",
       "    <tr>\n",
       "      <th>4</th>\n",
       "      <td>drama</td>\n",
       "      <td>adult</td>\n",
       "      <td>69</td>\n",
       "      <td>korea</td>\n",
       "      <td>2013</td>\n",
       "      <td>0</td>\n",
       "      <td>5530</td>\n",
       "      <td>3.6</td>\n",
       "      <td>0</td>\n",
       "      <td>0</td>\n",
       "      <td>2.64</td>\n",
       "    </tr>\n",
       "  </tbody>\n",
       "</table>\n",
       "</div>"
      ],
      "text/plain": [
       "    Genre   Level  RunningTime Country  Published  Win  WholeAud  PoSA  \\\n",
       "0   drama   adult          120  italia       2009    0     35531  78.3   \n",
       "1   drama  over15           54   korea       2009    0      5249  67.7   \n",
       "2   drama  over12          111     usa       2009    0     73309  34.4   \n",
       "3  comedy     all           83  france       2002    0     28799  57.1   \n",
       "4   drama   adult           69   korea       2013    0      5530   3.6   \n",
       "\n",
       "   BoxOffice  TV  Score  \n",
       "0          0   0   7.93  \n",
       "1          0   0   7.52  \n",
       "2          0   0   8.38  \n",
       "3          0   0   8.78  \n",
       "4          0   0   2.64  "
      ]
     },
     "execution_count": 32,
     "metadata": {},
     "output_type": "execute_result"
    }
   ],
   "source": [
    "import pandas as pd\n",
    "from sklearn.preprocessing import scale, robust_scale, minmax_scale, maxabs_scale\n",
    "\n",
    "df_test0 = pd.read_excel('movie_test_data.xlsx',sheetname = 2)\n",
    "df_test = df_test0.drop(['Name','Code','Released','SeoulAud','NoScreen','NoShow','Rescreen'],axis = 1)\n",
    "df_test.head()"
   ]
  },
  {
   "cell_type": "code",
   "execution_count": 20,
   "metadata": {
    "collapsed": false
   },
   "outputs": [],
   "source": [
    "# published 변환\n",
    "df_test_p = df_test['Published']\n",
    "df_test_p = pd.concat([df_test_p], axis = 1)\n",
    "f = lambda x : 2016-x\n",
    "df_test_p = df_test_p.applymap(f)\n",
    "\n",
    "# numerical values scaling\n",
    "df_test_n = pd.concat([df_test['RunningTime'],df_test_p,df_test['WholeAud'],df_test['PoSA'],df_test['Score']],axis = 1)\n",
    "df_test_n_s = scale(df_test_n)\n",
    "df_test_n = pd.DataFrame(df_test_n_s, columns = df_test_n.columns)\n",
    "df_test_c = pd.concat([df_test_n, df_test['Win'],df_test['BoxOffice'],df_test['TV']],axis = 1)"
   ]
  },
  {
   "cell_type": "code",
   "execution_count": 21,
   "metadata": {
    "collapsed": false
   },
   "outputs": [
    {
     "data": {
      "text/html": [
       "<div>\n",
       "<table border=\"1\" class=\"dataframe\">\n",
       "  <thead>\n",
       "    <tr style=\"text-align: right;\">\n",
       "      <th></th>\n",
       "      <th>RunningTime</th>\n",
       "      <th>Published</th>\n",
       "      <th>WholeAud</th>\n",
       "      <th>PoSA</th>\n",
       "      <th>Score</th>\n",
       "      <th>Win</th>\n",
       "      <th>BoxOffice</th>\n",
       "      <th>TV</th>\n",
       "      <th>genre1</th>\n",
       "    </tr>\n",
       "  </thead>\n",
       "  <tbody>\n",
       "    <tr>\n",
       "      <th>0</th>\n",
       "      <td>0.440501</td>\n",
       "      <td>0.756934</td>\n",
       "      <td>-0.186541</td>\n",
       "      <td>0.574280</td>\n",
       "      <td>0.463657</td>\n",
       "      <td>0</td>\n",
       "      <td>0</td>\n",
       "      <td>0</td>\n",
       "      <td>1</td>\n",
       "    </tr>\n",
       "    <tr>\n",
       "      <th>1</th>\n",
       "      <td>-1.967919</td>\n",
       "      <td>0.756934</td>\n",
       "      <td>-0.226576</td>\n",
       "      <td>0.175088</td>\n",
       "      <td>0.231492</td>\n",
       "      <td>0</td>\n",
       "      <td>0</td>\n",
       "      <td>0</td>\n",
       "      <td>1</td>\n",
       "    </tr>\n",
       "    <tr>\n",
       "      <th>2</th>\n",
       "      <td>0.112080</td>\n",
       "      <td>0.756934</td>\n",
       "      <td>-0.136595</td>\n",
       "      <td>-1.078980</td>\n",
       "      <td>0.718474</td>\n",
       "      <td>0</td>\n",
       "      <td>0</td>\n",
       "      <td>0</td>\n",
       "      <td>1</td>\n",
       "    </tr>\n",
       "    <tr>\n",
       "      <th>3</th>\n",
       "      <td>-0.909674</td>\n",
       "      <td>3.805408</td>\n",
       "      <td>-0.195441</td>\n",
       "      <td>-0.224105</td>\n",
       "      <td>0.944977</td>\n",
       "      <td>0</td>\n",
       "      <td>0</td>\n",
       "      <td>0</td>\n",
       "      <td>1</td>\n",
       "    </tr>\n",
       "    <tr>\n",
       "      <th>4</th>\n",
       "      <td>-1.420551</td>\n",
       "      <td>-0.985051</td>\n",
       "      <td>-0.226205</td>\n",
       "      <td>-2.238898</td>\n",
       "      <td>-2.531847</td>\n",
       "      <td>0</td>\n",
       "      <td>0</td>\n",
       "      <td>0</td>\n",
       "      <td>1</td>\n",
       "    </tr>\n",
       "  </tbody>\n",
       "</table>\n",
       "</div>"
      ],
      "text/plain": [
       "   RunningTime  Published  WholeAud      PoSA     Score  Win  BoxOffice  TV  \\\n",
       "0     0.440501   0.756934 -0.186541  0.574280  0.463657    0          0   0   \n",
       "1    -1.967919   0.756934 -0.226576  0.175088  0.231492    0          0   0   \n",
       "2     0.112080   0.756934 -0.136595 -1.078980  0.718474    0          0   0   \n",
       "3    -0.909674   3.805408 -0.195441 -0.224105  0.944977    0          0   0   \n",
       "4    -1.420551  -0.985051 -0.226205 -2.238898 -2.531847    0          0   0   \n",
       "\n",
       "  genre1  \n",
       "0      1  \n",
       "1      1  \n",
       "2      1  \n",
       "3      1  \n",
       "4      1  "
      ]
     },
     "execution_count": 21,
     "metadata": {},
     "output_type": "execute_result"
    }
   ],
   "source": [
    "df1 = df_test_c.copy()\n",
    "\n",
    "genre1 = []\n",
    "for i in range(len(df_test)):\n",
    "    if df_test.ix[i].Genre == 'drama':\n",
    "        genre1.append('1')\n",
    "    elif df_test.ix[i].Genre == 'melo':\n",
    "        genre1.append('1')\n",
    "    elif df_test.ix[i].Genre == 'comedy':\n",
    "        genre1.append('1')\n",
    "    else:\n",
    "        genre1.append('0')\n",
    "\n",
    "df1['genre1'] = pd.Series(genre1)\n",
    "df1.head()"
   ]
  },
  {
   "cell_type": "code",
   "execution_count": 22,
   "metadata": {
    "collapsed": false
   },
   "outputs": [],
   "source": [
    "df2 = df1.copy()\n",
    "\n",
    "country_list = []\n",
    "for i in range(len(df_test)):\n",
    "    if df_test.ix[i]['Country'] == u'korea':\n",
    "        country_list.append('Korea')\n",
    "    elif df_test.ix[i]['Country'] == u'usa':\n",
    "        country_list.append('USA')\n",
    "    elif df_test.ix[i]['Country'] == u'japan':\n",
    "        country_list.append('Japan')\n",
    "    elif df_test.ix[i]['Country'] == u'france':\n",
    "        country_list.append('France')\n",
    "    elif df_test.ix[i]['Country'] == u'england':\n",
    "        country_list.append('England')\n",
    "    else:\n",
    "        country_list.append('The_others')\n",
    "\n",
    "Level_d = pd.get_dummies(df_test['Level'])\n",
    "df2 = df2.join(Level_d)\n",
    "df2.head()\n",
    "\n",
    "df2['country'] = country_list\n",
    "country_d = pd.get_dummies(df2['country'])\n",
    "df2 = df2.join(country_d)"
   ]
  },
  {
   "cell_type": "code",
   "execution_count": 23,
   "metadata": {
    "collapsed": false
   },
   "outputs": [
    {
     "data": {
      "text/html": [
       "<div>\n",
       "<table border=\"1\" class=\"dataframe\">\n",
       "  <thead>\n",
       "    <tr style=\"text-align: right;\">\n",
       "      <th></th>\n",
       "      <th>RunningTime</th>\n",
       "      <th>Published</th>\n",
       "      <th>WholeAud</th>\n",
       "      <th>PoSA</th>\n",
       "      <th>Score</th>\n",
       "      <th>Win</th>\n",
       "      <th>BoxOffice</th>\n",
       "      <th>TV</th>\n",
       "      <th>genre1</th>\n",
       "      <th>all</th>\n",
       "      <th>over12</th>\n",
       "      <th>over15</th>\n",
       "      <th>England</th>\n",
       "      <th>France</th>\n",
       "      <th>Japan</th>\n",
       "      <th>Korea</th>\n",
       "      <th>USA</th>\n",
       "    </tr>\n",
       "  </thead>\n",
       "  <tbody>\n",
       "    <tr>\n",
       "      <th>0</th>\n",
       "      <td>0.440501</td>\n",
       "      <td>0.756934</td>\n",
       "      <td>-0.186541</td>\n",
       "      <td>0.574280</td>\n",
       "      <td>0.463657</td>\n",
       "      <td>0</td>\n",
       "      <td>0</td>\n",
       "      <td>0</td>\n",
       "      <td>1</td>\n",
       "      <td>0.0</td>\n",
       "      <td>0.0</td>\n",
       "      <td>0.0</td>\n",
       "      <td>0.0</td>\n",
       "      <td>0.0</td>\n",
       "      <td>0.0</td>\n",
       "      <td>0.0</td>\n",
       "      <td>0.0</td>\n",
       "    </tr>\n",
       "    <tr>\n",
       "      <th>1</th>\n",
       "      <td>-1.967919</td>\n",
       "      <td>0.756934</td>\n",
       "      <td>-0.226576</td>\n",
       "      <td>0.175088</td>\n",
       "      <td>0.231492</td>\n",
       "      <td>0</td>\n",
       "      <td>0</td>\n",
       "      <td>0</td>\n",
       "      <td>1</td>\n",
       "      <td>0.0</td>\n",
       "      <td>0.0</td>\n",
       "      <td>1.0</td>\n",
       "      <td>0.0</td>\n",
       "      <td>0.0</td>\n",
       "      <td>0.0</td>\n",
       "      <td>1.0</td>\n",
       "      <td>0.0</td>\n",
       "    </tr>\n",
       "    <tr>\n",
       "      <th>2</th>\n",
       "      <td>0.112080</td>\n",
       "      <td>0.756934</td>\n",
       "      <td>-0.136595</td>\n",
       "      <td>-1.078980</td>\n",
       "      <td>0.718474</td>\n",
       "      <td>0</td>\n",
       "      <td>0</td>\n",
       "      <td>0</td>\n",
       "      <td>1</td>\n",
       "      <td>0.0</td>\n",
       "      <td>1.0</td>\n",
       "      <td>0.0</td>\n",
       "      <td>0.0</td>\n",
       "      <td>0.0</td>\n",
       "      <td>0.0</td>\n",
       "      <td>0.0</td>\n",
       "      <td>1.0</td>\n",
       "    </tr>\n",
       "    <tr>\n",
       "      <th>3</th>\n",
       "      <td>-0.909674</td>\n",
       "      <td>3.805408</td>\n",
       "      <td>-0.195441</td>\n",
       "      <td>-0.224105</td>\n",
       "      <td>0.944977</td>\n",
       "      <td>0</td>\n",
       "      <td>0</td>\n",
       "      <td>0</td>\n",
       "      <td>1</td>\n",
       "      <td>1.0</td>\n",
       "      <td>0.0</td>\n",
       "      <td>0.0</td>\n",
       "      <td>0.0</td>\n",
       "      <td>1.0</td>\n",
       "      <td>0.0</td>\n",
       "      <td>0.0</td>\n",
       "      <td>0.0</td>\n",
       "    </tr>\n",
       "    <tr>\n",
       "      <th>4</th>\n",
       "      <td>-1.420551</td>\n",
       "      <td>-0.985051</td>\n",
       "      <td>-0.226205</td>\n",
       "      <td>-2.238898</td>\n",
       "      <td>-2.531847</td>\n",
       "      <td>0</td>\n",
       "      <td>0</td>\n",
       "      <td>0</td>\n",
       "      <td>1</td>\n",
       "      <td>0.0</td>\n",
       "      <td>0.0</td>\n",
       "      <td>0.0</td>\n",
       "      <td>0.0</td>\n",
       "      <td>0.0</td>\n",
       "      <td>0.0</td>\n",
       "      <td>1.0</td>\n",
       "      <td>0.0</td>\n",
       "    </tr>\n",
       "  </tbody>\n",
       "</table>\n",
       "</div>"
      ],
      "text/plain": [
       "   RunningTime  Published  WholeAud      PoSA     Score  Win  BoxOffice  TV  \\\n",
       "0     0.440501   0.756934 -0.186541  0.574280  0.463657    0          0   0   \n",
       "1    -1.967919   0.756934 -0.226576  0.175088  0.231492    0          0   0   \n",
       "2     0.112080   0.756934 -0.136595 -1.078980  0.718474    0          0   0   \n",
       "3    -0.909674   3.805408 -0.195441 -0.224105  0.944977    0          0   0   \n",
       "4    -1.420551  -0.985051 -0.226205 -2.238898 -2.531847    0          0   0   \n",
       "\n",
       "  genre1  all  over12  over15  England  France  Japan  Korea  USA  \n",
       "0      1  0.0     0.0     0.0      0.0     0.0    0.0    0.0  0.0  \n",
       "1      1  0.0     0.0     1.0      0.0     0.0    0.0    1.0  0.0  \n",
       "2      1  0.0     1.0     0.0      0.0     0.0    0.0    0.0  1.0  \n",
       "3      1  1.0     0.0     0.0      0.0     1.0    0.0    0.0  0.0  \n",
       "4      1  0.0     0.0     0.0      0.0     0.0    0.0    1.0  0.0  "
      ]
     },
     "execution_count": 23,
     "metadata": {},
     "output_type": "execute_result"
    }
   ],
   "source": [
    "del df2['country']\n",
    "del df2['adult']\n",
    "del df2['The_others']\n",
    "df2.head()"
   ]
  },
  {
   "cell_type": "code",
   "execution_count": 24,
   "metadata": {
    "collapsed": false,
    "scrolled": true
   },
   "outputs": [
    {
     "data": {
      "text/html": [
       "<div>\n",
       "<table border=\"1\" class=\"dataframe\">\n",
       "  <thead>\n",
       "    <tr style=\"text-align: right;\">\n",
       "      <th></th>\n",
       "      <th>Win</th>\n",
       "      <th>BoxOffice</th>\n",
       "      <th>TV</th>\n",
       "      <th>genre1</th>\n",
       "      <th>all</th>\n",
       "      <th>over12</th>\n",
       "      <th>over15</th>\n",
       "      <th>England</th>\n",
       "      <th>France</th>\n",
       "      <th>Japan</th>\n",
       "      <th>Korea</th>\n",
       "      <th>USA</th>\n",
       "    </tr>\n",
       "  </thead>\n",
       "  <tbody>\n",
       "    <tr>\n",
       "      <th>0</th>\n",
       "      <td>0</td>\n",
       "      <td>0</td>\n",
       "      <td>0</td>\n",
       "      <td>1</td>\n",
       "      <td>0.0</td>\n",
       "      <td>0.0</td>\n",
       "      <td>0.0</td>\n",
       "      <td>0.0</td>\n",
       "      <td>0.0</td>\n",
       "      <td>0.0</td>\n",
       "      <td>0.0</td>\n",
       "      <td>0.0</td>\n",
       "    </tr>\n",
       "    <tr>\n",
       "      <th>1</th>\n",
       "      <td>0</td>\n",
       "      <td>0</td>\n",
       "      <td>0</td>\n",
       "      <td>1</td>\n",
       "      <td>0.0</td>\n",
       "      <td>0.0</td>\n",
       "      <td>1.0</td>\n",
       "      <td>0.0</td>\n",
       "      <td>0.0</td>\n",
       "      <td>0.0</td>\n",
       "      <td>1.0</td>\n",
       "      <td>0.0</td>\n",
       "    </tr>\n",
       "    <tr>\n",
       "      <th>2</th>\n",
       "      <td>0</td>\n",
       "      <td>0</td>\n",
       "      <td>0</td>\n",
       "      <td>1</td>\n",
       "      <td>0.0</td>\n",
       "      <td>1.0</td>\n",
       "      <td>0.0</td>\n",
       "      <td>0.0</td>\n",
       "      <td>0.0</td>\n",
       "      <td>0.0</td>\n",
       "      <td>0.0</td>\n",
       "      <td>1.0</td>\n",
       "    </tr>\n",
       "    <tr>\n",
       "      <th>3</th>\n",
       "      <td>0</td>\n",
       "      <td>0</td>\n",
       "      <td>0</td>\n",
       "      <td>1</td>\n",
       "      <td>1.0</td>\n",
       "      <td>0.0</td>\n",
       "      <td>0.0</td>\n",
       "      <td>0.0</td>\n",
       "      <td>1.0</td>\n",
       "      <td>0.0</td>\n",
       "      <td>0.0</td>\n",
       "      <td>0.0</td>\n",
       "    </tr>\n",
       "    <tr>\n",
       "      <th>4</th>\n",
       "      <td>0</td>\n",
       "      <td>0</td>\n",
       "      <td>0</td>\n",
       "      <td>1</td>\n",
       "      <td>0.0</td>\n",
       "      <td>0.0</td>\n",
       "      <td>0.0</td>\n",
       "      <td>0.0</td>\n",
       "      <td>0.0</td>\n",
       "      <td>0.0</td>\n",
       "      <td>1.0</td>\n",
       "      <td>0.0</td>\n",
       "    </tr>\n",
       "  </tbody>\n",
       "</table>\n",
       "</div>"
      ],
      "text/plain": [
       "   Win  BoxOffice  TV genre1  all  over12  over15  England  France  Japan  \\\n",
       "0    0          0   0      1  0.0     0.0     0.0      0.0     0.0    0.0   \n",
       "1    0          0   0      1  0.0     0.0     1.0      0.0     0.0    0.0   \n",
       "2    0          0   0      1  0.0     1.0     0.0      0.0     0.0    0.0   \n",
       "3    0          0   0      1  1.0     0.0     0.0      0.0     1.0    0.0   \n",
       "4    0          0   0      1  0.0     0.0     0.0      0.0     0.0    0.0   \n",
       "\n",
       "   Korea  USA  \n",
       "0    0.0  0.0  \n",
       "1    1.0  0.0  \n",
       "2    0.0  1.0  \n",
       "3    0.0  0.0  \n",
       "4    1.0  0.0  "
      ]
     },
     "execution_count": 24,
     "metadata": {},
     "output_type": "execute_result"
    }
   ],
   "source": [
    "df_test_com1 = df2.drop(df2.ix[:,'RunningTime':'Score'],axis = 1)\n",
    "df_test_com1.head()"
   ]
  },
  {
   "cell_type": "code",
   "execution_count": 61,
   "metadata": {
    "collapsed": false,
    "scrolled": false
   },
   "outputs": [
    {
     "data": {
      "text/html": [
       "<div>\n",
       "<table border=\"1\" class=\"dataframe\">\n",
       "  <thead>\n",
       "    <tr style=\"text-align: right;\">\n",
       "      <th></th>\n",
       "      <th>name</th>\n",
       "      <th>original</th>\n",
       "      <th>pred</th>\n",
       "      <th>TorF</th>\n",
       "    </tr>\n",
       "  </thead>\n",
       "  <tbody>\n",
       "    <tr>\n",
       "      <th>0</th>\n",
       "      <td>아이 엠 러브</td>\n",
       "      <td>0.0</td>\n",
       "      <td>1.0</td>\n",
       "      <td>False</td>\n",
       "    </tr>\n",
       "    <tr>\n",
       "      <th>1</th>\n",
       "      <td>친구사이?</td>\n",
       "      <td>0.0</td>\n",
       "      <td>0.0</td>\n",
       "      <td>True</td>\n",
       "    </tr>\n",
       "    <tr>\n",
       "      <th>2</th>\n",
       "      <td>드림업</td>\n",
       "      <td>0.0</td>\n",
       "      <td>0.0</td>\n",
       "      <td>True</td>\n",
       "    </tr>\n",
       "    <tr>\n",
       "      <th>3</th>\n",
       "      <td>버터플라이</td>\n",
       "      <td>1.0</td>\n",
       "      <td>0.0</td>\n",
       "      <td>False</td>\n",
       "    </tr>\n",
       "    <tr>\n",
       "      <th>4</th>\n",
       "      <td>비밀의 화방</td>\n",
       "      <td>0.0</td>\n",
       "      <td>0.0</td>\n",
       "      <td>True</td>\n",
       "    </tr>\n",
       "  </tbody>\n",
       "</table>\n",
       "</div>"
      ],
      "text/plain": [
       "      name  original  pred   TorF\n",
       "0  아이 엠 러브       0.0   1.0  False\n",
       "1    친구사이?       0.0   0.0   True\n",
       "2      드림업       0.0   0.0   True\n",
       "3    버터플라이       1.0   0.0  False\n",
       "4   비밀의 화방       0.0   0.0   True"
      ]
     },
     "execution_count": 61,
     "metadata": {},
     "output_type": "execute_result"
    }
   ],
   "source": [
    "df_test_com1_ = sm.add_constant(df_test_com1)\n",
    "\n",
    "y_pred_LR = model_LR1.predict(df_test_com1_)\n",
    "\n",
    "LR_result = pd.DataFrame(columns=['name','original', 'pred', 'TorF'])\n",
    "\n",
    "for i in range(len(y_pred_LR)):\n",
    "    LR_result.loc[len(LR_result)] = [df_test0['Name'][i],y_pred_LR[i], df_test0['Rescreen'][i],y_pred_LR[i]==df_test0['Rescreen'][i]]\n",
    "    \n",
    "LR_result.head()"
   ]
  },
  {
   "cell_type": "code",
   "execution_count": 34,
   "metadata": {
    "collapsed": false
   },
   "outputs": [
    {
     "name": "stdout",
     "output_type": "stream",
     "text": [
      "             precision    recall  f1-score   support\n",
      "\n",
      "          0       0.87      0.98      0.92       110\n",
      "          1       0.00      0.00      0.00        16\n",
      "\n",
      "avg / total       0.76      0.86      0.81       126\n",
      "\n"
     ]
    }
   ],
   "source": [
    "print classification_report(df_test0['Rescreen'], y_pred_LR)"
   ]
  },
  {
   "cell_type": "code",
   "execution_count": null,
   "metadata": {
    "collapsed": true
   },
   "outputs": [],
   "source": []
  }
 ],
 "metadata": {
  "kernelspec": {
   "display_name": "Python 2",
   "language": "python",
   "name": "python2"
  },
  "language_info": {
   "codemirror_mode": {
    "name": "ipython",
    "version": 2
   },
   "file_extension": ".py",
   "mimetype": "text/x-python",
   "name": "python",
   "nbconvert_exporter": "python",
   "pygments_lexer": "ipython2",
   "version": "2.7.12"
  }
 },
 "nbformat": 4,
 "nbformat_minor": 1
}
