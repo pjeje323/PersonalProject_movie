{
 "cells": [
  {
   "cell_type": "markdown",
   "metadata": {},
   "source": [
    "# ============================================================="
   ]
  },
  {
   "cell_type": "markdown",
   "metadata": {},
   "source": [
    "#  Feature Optimizing"
   ]
  },
  {
   "cell_type": "markdown",
   "metadata": {},
   "source": [
    "# ============================================================="
   ]
  },
  {
   "cell_type": "code",
   "execution_count": 1,
   "metadata": {
    "collapsed": false
   },
   "outputs": [],
   "source": [
    "import pandas as pd\n",
    "\n",
    "# 더미변수를 단순 분리해서 합친 데이터\n",
    "df0 = pd.read_excel('preprocess0.xlsx',sheetname = 0)\n",
    "\n",
    "# 더미변수를 각각 기준을 잡아서 분리시키고 합친 데이터\n",
    "df1 = pd.read_excel('preprocess1.xlsx',sheetname = 0)"
   ]
  },
  {
   "cell_type": "code",
   "execution_count": 2,
   "metadata": {
    "collapsed": false
   },
   "outputs": [
    {
     "data": {
      "text/plain": [
       "((2000, 87), (2000, 18))"
      ]
     },
     "execution_count": 2,
     "metadata": {},
     "output_type": "execute_result"
    }
   ],
   "source": [
    "df0.shape, df1.shape"
   ]
  },
  {
   "cell_type": "code",
   "execution_count": 3,
   "metadata": {
    "collapsed": false
   },
   "outputs": [
    {
     "data": {
      "text/html": [
       "<div>\n",
       "<table border=\"1\" class=\"dataframe\">\n",
       "  <thead>\n",
       "    <tr style=\"text-align: right;\">\n",
       "      <th></th>\n",
       "      <th>RunningTime</th>\n",
       "      <th>Published</th>\n",
       "      <th>Win</th>\n",
       "      <th>WholeAud</th>\n",
       "      <th>PoSA</th>\n",
       "      <th>BoxOffice</th>\n",
       "      <th>TV</th>\n",
       "      <th>Score</th>\n",
       "      <th>Rescreen</th>\n",
       "      <th>SF</th>\n",
       "      <th>...</th>\n",
       "      <th>singapore</th>\n",
       "      <th>southafranceica</th>\n",
       "      <th>spain</th>\n",
       "      <th>sweden</th>\n",
       "      <th>swiss</th>\n",
       "      <th>tai</th>\n",
       "      <th>tailand</th>\n",
       "      <th>taiwan</th>\n",
       "      <th>uruguay</th>\n",
       "      <th>usa</th>\n",
       "    </tr>\n",
       "  </thead>\n",
       "  <tbody>\n",
       "    <tr>\n",
       "      <th>0</th>\n",
       "      <td>103</td>\n",
       "      <td>2007</td>\n",
       "      <td>0</td>\n",
       "      <td>1708979</td>\n",
       "      <td>32.3</td>\n",
       "      <td>1</td>\n",
       "      <td>0</td>\n",
       "      <td>5.77</td>\n",
       "      <td>0</td>\n",
       "      <td>0</td>\n",
       "      <td>...</td>\n",
       "      <td>0</td>\n",
       "      <td>0</td>\n",
       "      <td>0</td>\n",
       "      <td>0</td>\n",
       "      <td>0</td>\n",
       "      <td>0</td>\n",
       "      <td>0</td>\n",
       "      <td>0</td>\n",
       "      <td>0</td>\n",
       "      <td>0</td>\n",
       "    </tr>\n",
       "    <tr>\n",
       "      <th>1</th>\n",
       "      <td>104</td>\n",
       "      <td>2010</td>\n",
       "      <td>0</td>\n",
       "      <td>805</td>\n",
       "      <td>65.8</td>\n",
       "      <td>0</td>\n",
       "      <td>0</td>\n",
       "      <td>7.61</td>\n",
       "      <td>1</td>\n",
       "      <td>0</td>\n",
       "      <td>...</td>\n",
       "      <td>0</td>\n",
       "      <td>0</td>\n",
       "      <td>0</td>\n",
       "      <td>0</td>\n",
       "      <td>0</td>\n",
       "      <td>0</td>\n",
       "      <td>0</td>\n",
       "      <td>0</td>\n",
       "      <td>0</td>\n",
       "      <td>0</td>\n",
       "    </tr>\n",
       "    <tr>\n",
       "      <th>2</th>\n",
       "      <td>157</td>\n",
       "      <td>2007</td>\n",
       "      <td>0</td>\n",
       "      <td>1924678</td>\n",
       "      <td>38.2</td>\n",
       "      <td>1</td>\n",
       "      <td>0</td>\n",
       "      <td>8.51</td>\n",
       "      <td>1</td>\n",
       "      <td>0</td>\n",
       "      <td>...</td>\n",
       "      <td>0</td>\n",
       "      <td>0</td>\n",
       "      <td>0</td>\n",
       "      <td>0</td>\n",
       "      <td>0</td>\n",
       "      <td>0</td>\n",
       "      <td>0</td>\n",
       "      <td>0</td>\n",
       "      <td>0</td>\n",
       "      <td>1</td>\n",
       "    </tr>\n",
       "    <tr>\n",
       "      <th>3</th>\n",
       "      <td>110</td>\n",
       "      <td>2006</td>\n",
       "      <td>0</td>\n",
       "      <td>280</td>\n",
       "      <td>100.0</td>\n",
       "      <td>0</td>\n",
       "      <td>0</td>\n",
       "      <td>8.24</td>\n",
       "      <td>1</td>\n",
       "      <td>0</td>\n",
       "      <td>...</td>\n",
       "      <td>0</td>\n",
       "      <td>0</td>\n",
       "      <td>0</td>\n",
       "      <td>0</td>\n",
       "      <td>0</td>\n",
       "      <td>0</td>\n",
       "      <td>0</td>\n",
       "      <td>0</td>\n",
       "      <td>0</td>\n",
       "      <td>0</td>\n",
       "    </tr>\n",
       "    <tr>\n",
       "      <th>4</th>\n",
       "      <td>139</td>\n",
       "      <td>2006</td>\n",
       "      <td>0</td>\n",
       "      <td>563056</td>\n",
       "      <td>26.1</td>\n",
       "      <td>0</td>\n",
       "      <td>0</td>\n",
       "      <td>8.27</td>\n",
       "      <td>0</td>\n",
       "      <td>0</td>\n",
       "      <td>...</td>\n",
       "      <td>0</td>\n",
       "      <td>0</td>\n",
       "      <td>0</td>\n",
       "      <td>0</td>\n",
       "      <td>0</td>\n",
       "      <td>0</td>\n",
       "      <td>0</td>\n",
       "      <td>0</td>\n",
       "      <td>0</td>\n",
       "      <td>0</td>\n",
       "    </tr>\n",
       "  </tbody>\n",
       "</table>\n",
       "<p>5 rows × 86 columns</p>\n",
       "</div>"
      ],
      "text/plain": [
       "   RunningTime  Published  Win  WholeAud   PoSA  BoxOffice  TV  Score  \\\n",
       "0          103       2007    0   1708979   32.3          1   0   5.77   \n",
       "1          104       2010    0       805   65.8          0   0   7.61   \n",
       "2          157       2007    0   1924678   38.2          1   0   8.51   \n",
       "3          110       2006    0       280  100.0          0   0   8.24   \n",
       "4          139       2006    0    563056   26.1          0   0   8.27   \n",
       "\n",
       "   Rescreen  SF ...   singapore  southafranceica  spain  sweden  swiss  tai  \\\n",
       "0         0   0 ...           0                0      0       0      0    0   \n",
       "1         1   0 ...           0                0      0       0      0    0   \n",
       "2         1   0 ...           0                0      0       0      0    0   \n",
       "3         1   0 ...           0                0      0       0      0    0   \n",
       "4         0   0 ...           0                0      0       0      0    0   \n",
       "\n",
       "   tailand  taiwan  uruguay  usa  \n",
       "0        0       0        0    0  \n",
       "1        0       0        0    0  \n",
       "2        0       0        0    1  \n",
       "3        0       0        0    0  \n",
       "4        0       0        0    0  \n",
       "\n",
       "[5 rows x 86 columns]"
      ]
     },
     "execution_count": 3,
     "metadata": {},
     "output_type": "execute_result"
    }
   ],
   "source": [
    "del df0['NoShow']\n",
    "df0.head()"
   ]
  },
  {
   "cell_type": "code",
   "execution_count": 4,
   "metadata": {
    "collapsed": false
   },
   "outputs": [
    {
     "data": {
      "text/html": [
       "<div>\n",
       "<table border=\"1\" class=\"dataframe\">\n",
       "  <thead>\n",
       "    <tr style=\"text-align: right;\">\n",
       "      <th></th>\n",
       "      <th>RunningTime</th>\n",
       "      <th>Published</th>\n",
       "      <th>Win</th>\n",
       "      <th>WholeAud</th>\n",
       "      <th>PoSA</th>\n",
       "      <th>BoxOffice</th>\n",
       "      <th>TV</th>\n",
       "      <th>Score</th>\n",
       "      <th>Rescreen</th>\n",
       "      <th>genre1</th>\n",
       "      <th>all</th>\n",
       "      <th>over12</th>\n",
       "      <th>over15</th>\n",
       "      <th>England</th>\n",
       "      <th>France</th>\n",
       "      <th>Japan</th>\n",
       "      <th>Korea</th>\n",
       "      <th>USA</th>\n",
       "    </tr>\n",
       "  </thead>\n",
       "  <tbody>\n",
       "    <tr>\n",
       "      <th>0</th>\n",
       "      <td>103</td>\n",
       "      <td>2007</td>\n",
       "      <td>0</td>\n",
       "      <td>1708979</td>\n",
       "      <td>32.3</td>\n",
       "      <td>1</td>\n",
       "      <td>0</td>\n",
       "      <td>5.77</td>\n",
       "      <td>0</td>\n",
       "      <td>1</td>\n",
       "      <td>0</td>\n",
       "      <td>0</td>\n",
       "      <td>0</td>\n",
       "      <td>0</td>\n",
       "      <td>0</td>\n",
       "      <td>0</td>\n",
       "      <td>1</td>\n",
       "      <td>0</td>\n",
       "    </tr>\n",
       "    <tr>\n",
       "      <th>1</th>\n",
       "      <td>104</td>\n",
       "      <td>2010</td>\n",
       "      <td>0</td>\n",
       "      <td>805</td>\n",
       "      <td>65.8</td>\n",
       "      <td>0</td>\n",
       "      <td>0</td>\n",
       "      <td>7.61</td>\n",
       "      <td>1</td>\n",
       "      <td>1</td>\n",
       "      <td>1</td>\n",
       "      <td>0</td>\n",
       "      <td>0</td>\n",
       "      <td>0</td>\n",
       "      <td>0</td>\n",
       "      <td>0</td>\n",
       "      <td>0</td>\n",
       "      <td>0</td>\n",
       "    </tr>\n",
       "    <tr>\n",
       "      <th>2</th>\n",
       "      <td>157</td>\n",
       "      <td>2007</td>\n",
       "      <td>0</td>\n",
       "      <td>1924678</td>\n",
       "      <td>38.2</td>\n",
       "      <td>1</td>\n",
       "      <td>0</td>\n",
       "      <td>8.51</td>\n",
       "      <td>1</td>\n",
       "      <td>1</td>\n",
       "      <td>0</td>\n",
       "      <td>0</td>\n",
       "      <td>0</td>\n",
       "      <td>0</td>\n",
       "      <td>0</td>\n",
       "      <td>0</td>\n",
       "      <td>0</td>\n",
       "      <td>1</td>\n",
       "    </tr>\n",
       "    <tr>\n",
       "      <th>3</th>\n",
       "      <td>110</td>\n",
       "      <td>2006</td>\n",
       "      <td>0</td>\n",
       "      <td>280</td>\n",
       "      <td>100.0</td>\n",
       "      <td>0</td>\n",
       "      <td>0</td>\n",
       "      <td>8.24</td>\n",
       "      <td>1</td>\n",
       "      <td>0</td>\n",
       "      <td>0</td>\n",
       "      <td>0</td>\n",
       "      <td>1</td>\n",
       "      <td>0</td>\n",
       "      <td>0</td>\n",
       "      <td>1</td>\n",
       "      <td>0</td>\n",
       "      <td>0</td>\n",
       "    </tr>\n",
       "    <tr>\n",
       "      <th>4</th>\n",
       "      <td>139</td>\n",
       "      <td>2006</td>\n",
       "      <td>0</td>\n",
       "      <td>563056</td>\n",
       "      <td>26.1</td>\n",
       "      <td>0</td>\n",
       "      <td>0</td>\n",
       "      <td>8.27</td>\n",
       "      <td>0</td>\n",
       "      <td>0</td>\n",
       "      <td>0</td>\n",
       "      <td>1</td>\n",
       "      <td>0</td>\n",
       "      <td>0</td>\n",
       "      <td>0</td>\n",
       "      <td>1</td>\n",
       "      <td>0</td>\n",
       "      <td>0</td>\n",
       "    </tr>\n",
       "  </tbody>\n",
       "</table>\n",
       "</div>"
      ],
      "text/plain": [
       "   RunningTime  Published  Win  WholeAud   PoSA  BoxOffice  TV  Score  \\\n",
       "0          103       2007    0   1708979   32.3          1   0   5.77   \n",
       "1          104       2010    0       805   65.8          0   0   7.61   \n",
       "2          157       2007    0   1924678   38.2          1   0   8.51   \n",
       "3          110       2006    0       280  100.0          0   0   8.24   \n",
       "4          139       2006    0    563056   26.1          0   0   8.27   \n",
       "\n",
       "   Rescreen  genre1  all  over12  over15  England  France  Japan  Korea  USA  \n",
       "0         0       1    0       0       0        0       0      0      1    0  \n",
       "1         1       1    1       0       0        0       0      0      0    0  \n",
       "2         1       1    0       0       0        0       0      0      0    1  \n",
       "3         1       0    0       0       1        0       0      1      0    0  \n",
       "4         0       0    0       1       0        0       0      1      0    0  "
      ]
     },
     "execution_count": 4,
     "metadata": {},
     "output_type": "execute_result"
    }
   ],
   "source": [
    "df1.head()"
   ]
  },
  {
   "cell_type": "markdown",
   "metadata": {},
   "source": [
    "# 1. Value Type별 분리"
   ]
  },
  {
   "cell_type": "markdown",
   "metadata": {},
   "source": [
    "# 1 - 1. Numerical features"
   ]
  },
  {
   "cell_type": "code",
   "execution_count": 5,
   "metadata": {
    "collapsed": false,
    "scrolled": true
   },
   "outputs": [
    {
     "data": {
      "text/html": [
       "<div>\n",
       "<table border=\"1\" class=\"dataframe\">\n",
       "  <thead>\n",
       "    <tr style=\"text-align: right;\">\n",
       "      <th></th>\n",
       "      <th>Published</th>\n",
       "    </tr>\n",
       "  </thead>\n",
       "  <tbody>\n",
       "    <tr>\n",
       "      <th>0</th>\n",
       "      <td>9</td>\n",
       "    </tr>\n",
       "    <tr>\n",
       "      <th>1</th>\n",
       "      <td>6</td>\n",
       "    </tr>\n",
       "    <tr>\n",
       "      <th>2</th>\n",
       "      <td>9</td>\n",
       "    </tr>\n",
       "    <tr>\n",
       "      <th>3</th>\n",
       "      <td>10</td>\n",
       "    </tr>\n",
       "    <tr>\n",
       "      <th>4</th>\n",
       "      <td>10</td>\n",
       "    </tr>\n",
       "  </tbody>\n",
       "</table>\n",
       "</div>"
      ],
      "text/plain": [
       "   Published\n",
       "0          9\n",
       "1          6\n",
       "2          9\n",
       "3         10\n",
       "4         10"
      ]
     },
     "execution_count": 5,
     "metadata": {},
     "output_type": "execute_result"
    }
   ],
   "source": [
    "# Column 변환\n",
    "# Published 를 '지금부터 몇년 전' 영화인지에 대한 수치로 변환\n",
    "df0_p = df0['Published']\n",
    "df0_p = pd.concat([df0_p], axis = 1)\n",
    "\n",
    "\n",
    "f = lambda x : 2016-x\n",
    "df0_p = df0_p.applymap(f)\n",
    "df0_p.head()"
   ]
  },
  {
   "cell_type": "code",
   "execution_count": 8,
   "metadata": {
    "collapsed": false
   },
   "outputs": [],
   "source": [
    "# Scaling\n",
    "from sklearn.preprocessing import scale, robust_scale, minmax_scale, maxabs_scale\n",
    "\n",
    "df0_s = pd.concat([df0['RunningTime'], df0_p, df0['WholeAud'],df0['PoSA'],df0['Score']],axis = 1)\n",
    "df1_s = pd.concat([df1['RunningTime'], df0_p, df1['WholeAud'],df1['PoSA'],df1['Score']],axis = 1)"
   ]
  },
  {
   "cell_type": "code",
   "execution_count": 9,
   "metadata": {
    "collapsed": false
   },
   "outputs": [
    {
     "name": "stdout",
     "output_type": "stream",
     "text": [
      "Index([u'RunningTime', u'Published', u'WholeAud', u'PoSA', u'Score'], dtype='object')\n",
      "Index([u'RunningTime', u'Published', u'WholeAud', u'PoSA', u'Score'], dtype='object')\n"
     ]
    }
   ],
   "source": [
    "df0_s_name = df0_s.columns\n",
    "df1_s_name = df1_s.columns\n",
    "print df0_s_name\n",
    "print df1_s_name"
   ]
  },
  {
   "cell_type": "code",
   "execution_count": 10,
   "metadata": {
    "collapsed": false
   },
   "outputs": [],
   "source": [
    "# 각 데이터프레임 df0, df1에 대해 Scale/Robust_scale 시행\n",
    "df0_s = scale(df0_s)\n",
    "df0_s = pd.DataFrame(df0_s, columns = df0_s_name)\n",
    "df0_rs = robust_scale(df0_s)\n",
    "df0_rs = pd.DataFrame(df0_rs, columns = df0_s_name)\n",
    "df1_s = scale(df1_s)\n",
    "df1_s = pd.DataFrame(df1_s, columns = df1_s_name)\n",
    "df1_rs = robust_scale(df1_s)\n",
    "df1_rs = pd.DataFrame(df1_rs, columns = df1_s_name)"
   ]
  },
  {
   "cell_type": "code",
   "execution_count": 11,
   "metadata": {
    "collapsed": false
   },
   "outputs": [
    {
     "data": {
      "text/html": [
       "<div>\n",
       "<table border=\"1\" class=\"dataframe\">\n",
       "  <thead>\n",
       "    <tr style=\"text-align: right;\">\n",
       "      <th></th>\n",
       "      <th>RunningTime</th>\n",
       "      <th>Published</th>\n",
       "      <th>WholeAud</th>\n",
       "      <th>PoSA</th>\n",
       "      <th>Score</th>\n",
       "    </tr>\n",
       "  </thead>\n",
       "  <tbody>\n",
       "    <tr>\n",
       "      <th>0</th>\n",
       "      <td>0.065217</td>\n",
       "      <td>0.6</td>\n",
       "      <td>12.439738</td>\n",
       "      <td>-0.441398</td>\n",
       "      <td>-0.979079</td>\n",
       "    </tr>\n",
       "    <tr>\n",
       "      <th>1</th>\n",
       "      <td>0.108696</td>\n",
       "      <td>0.0</td>\n",
       "      <td>-0.042808</td>\n",
       "      <td>0.151261</td>\n",
       "      <td>0.047420</td>\n",
       "    </tr>\n",
       "    <tr>\n",
       "      <th>2</th>\n",
       "      <td>2.413043</td>\n",
       "      <td>0.6</td>\n",
       "      <td>14.015967</td>\n",
       "      <td>-0.337019</td>\n",
       "      <td>0.549512</td>\n",
       "    </tr>\n",
       "    <tr>\n",
       "      <th>3</th>\n",
       "      <td>0.369565</td>\n",
       "      <td>0.8</td>\n",
       "      <td>-0.046644</td>\n",
       "      <td>0.756303</td>\n",
       "      <td>0.398884</td>\n",
       "    </tr>\n",
       "    <tr>\n",
       "      <th>4</th>\n",
       "      <td>1.630435</td>\n",
       "      <td>0.8</td>\n",
       "      <td>4.065863</td>\n",
       "      <td>-0.551084</td>\n",
       "      <td>0.415621</td>\n",
       "    </tr>\n",
       "  </tbody>\n",
       "</table>\n",
       "</div>"
      ],
      "text/plain": [
       "   RunningTime  Published   WholeAud      PoSA     Score\n",
       "0     0.065217        0.6  12.439738 -0.441398 -0.979079\n",
       "1     0.108696        0.0  -0.042808  0.151261  0.047420\n",
       "2     2.413043        0.6  14.015967 -0.337019  0.549512\n",
       "3     0.369565        0.8  -0.046644  0.756303  0.398884\n",
       "4     1.630435        0.8   4.065863 -0.551084  0.415621"
      ]
     },
     "execution_count": 11,
     "metadata": {},
     "output_type": "execute_result"
    }
   ],
   "source": [
    "df1_rs.head()"
   ]
  },
  {
   "cell_type": "markdown",
   "metadata": {},
   "source": [
    "# 1 - 2. Dummies + Binary Features"
   ]
  },
  {
   "cell_type": "code",
   "execution_count": 12,
   "metadata": {
    "collapsed": false
   },
   "outputs": [],
   "source": [
    "df0_d = pd.concat([df0.ix[:,'SF':'usa']],axis = 1) # dummies\n",
    "df1_d = pd.concat([df1.ix[:,'genre1':'USA']],axis = 1)  # modified dummies\n",
    "df0_d_b = pd.concat([df0['Win'], df0['BoxOffice'], df0['TV'], df0_d], axis = 1) # dummies + binary \n",
    "df1_d_b = pd.concat([df1['Win'], df1['BoxOffice'], df1['TV'], df1_d], axis = 1) # modified dummies + binary "
   ]
  },
  {
   "cell_type": "code",
   "execution_count": 13,
   "metadata": {
    "collapsed": false
   },
   "outputs": [
    {
     "data": {
      "text/html": [
       "<div>\n",
       "<table border=\"1\" class=\"dataframe\">\n",
       "  <thead>\n",
       "    <tr style=\"text-align: right;\">\n",
       "      <th></th>\n",
       "      <th>Win</th>\n",
       "      <th>BoxOffice</th>\n",
       "      <th>TV</th>\n",
       "      <th>genre1</th>\n",
       "      <th>all</th>\n",
       "      <th>over12</th>\n",
       "      <th>over15</th>\n",
       "      <th>England</th>\n",
       "      <th>France</th>\n",
       "      <th>Japan</th>\n",
       "      <th>Korea</th>\n",
       "      <th>USA</th>\n",
       "    </tr>\n",
       "  </thead>\n",
       "  <tbody>\n",
       "    <tr>\n",
       "      <th>0</th>\n",
       "      <td>0</td>\n",
       "      <td>1</td>\n",
       "      <td>0</td>\n",
       "      <td>1</td>\n",
       "      <td>0</td>\n",
       "      <td>0</td>\n",
       "      <td>0</td>\n",
       "      <td>0</td>\n",
       "      <td>0</td>\n",
       "      <td>0</td>\n",
       "      <td>1</td>\n",
       "      <td>0</td>\n",
       "    </tr>\n",
       "    <tr>\n",
       "      <th>1</th>\n",
       "      <td>0</td>\n",
       "      <td>0</td>\n",
       "      <td>0</td>\n",
       "      <td>1</td>\n",
       "      <td>1</td>\n",
       "      <td>0</td>\n",
       "      <td>0</td>\n",
       "      <td>0</td>\n",
       "      <td>0</td>\n",
       "      <td>0</td>\n",
       "      <td>0</td>\n",
       "      <td>0</td>\n",
       "    </tr>\n",
       "    <tr>\n",
       "      <th>2</th>\n",
       "      <td>0</td>\n",
       "      <td>1</td>\n",
       "      <td>0</td>\n",
       "      <td>1</td>\n",
       "      <td>0</td>\n",
       "      <td>0</td>\n",
       "      <td>0</td>\n",
       "      <td>0</td>\n",
       "      <td>0</td>\n",
       "      <td>0</td>\n",
       "      <td>0</td>\n",
       "      <td>1</td>\n",
       "    </tr>\n",
       "    <tr>\n",
       "      <th>3</th>\n",
       "      <td>0</td>\n",
       "      <td>0</td>\n",
       "      <td>0</td>\n",
       "      <td>0</td>\n",
       "      <td>0</td>\n",
       "      <td>0</td>\n",
       "      <td>1</td>\n",
       "      <td>0</td>\n",
       "      <td>0</td>\n",
       "      <td>1</td>\n",
       "      <td>0</td>\n",
       "      <td>0</td>\n",
       "    </tr>\n",
       "    <tr>\n",
       "      <th>4</th>\n",
       "      <td>0</td>\n",
       "      <td>0</td>\n",
       "      <td>0</td>\n",
       "      <td>0</td>\n",
       "      <td>0</td>\n",
       "      <td>1</td>\n",
       "      <td>0</td>\n",
       "      <td>0</td>\n",
       "      <td>0</td>\n",
       "      <td>1</td>\n",
       "      <td>0</td>\n",
       "      <td>0</td>\n",
       "    </tr>\n",
       "  </tbody>\n",
       "</table>\n",
       "</div>"
      ],
      "text/plain": [
       "   Win  BoxOffice  TV  genre1  all  over12  over15  England  France  Japan  \\\n",
       "0    0          1   0       1    0       0       0        0       0      0   \n",
       "1    0          0   0       1    1       0       0        0       0      0   \n",
       "2    0          1   0       1    0       0       0        0       0      0   \n",
       "3    0          0   0       0    0       0       1        0       0      1   \n",
       "4    0          0   0       0    0       1       0        0       0      1   \n",
       "\n",
       "   Korea  USA  \n",
       "0      1    0  \n",
       "1      0    0  \n",
       "2      0    1  \n",
       "3      0    0  \n",
       "4      0    0  "
      ]
     },
     "execution_count": 13,
     "metadata": {},
     "output_type": "execute_result"
    }
   ],
   "source": [
    "df1_d_b.head()"
   ]
  },
  {
   "cell_type": "markdown",
   "metadata": {},
   "source": [
    "# 2. Feature 선별"
   ]
  },
  {
   "cell_type": "code",
   "execution_count": 14,
   "metadata": {
    "collapsed": true
   },
   "outputs": [],
   "source": [
    "y = df0['Rescreen'].as_matrix().astype('string')"
   ]
  },
  {
   "cell_type": "code",
   "execution_count": 15,
   "metadata": {
    "collapsed": false
   },
   "outputs": [],
   "source": [
    "df00 = pd.concat([df0_s, df0_d_b],axis = 1)  # scale(df0) + dummies + binary\n",
    "df01 = pd.concat([df0_s, df1_d_b],axis = 1)  # scale(df0) + modified dummies + binary\n",
    "df02 = pd.concat([df0_rs, df0_d_b],axis = 1)  # robust_scale(df0) + dummies + binary\n",
    "df03 = pd.concat([df0_rs, df1_d_b],axis = 1)  # robust_scale(df0) + modified dummies + binary\n",
    "df10 = pd.concat([df1_s, df0_d_b],axis = 1)  # scale(df1) + dummies + binary\n",
    "df11 = pd.concat([df1_s, df1_d_b],axis = 1)  # scale(df1) + modified dummies + binary\n",
    "df12 = pd.concat([df1_rs, df0_d_b],axis = 1)  # robust_scale(df1) + dummies + binary\n",
    "df13 = pd.concat([df1_rs, df1_d_b],axis = 1)  # robust_scale(df1) + modified dummies + binary\n",
    "\n",
    "df_00 = pd.concat([df0_s, df0_d_b],axis = 1).as_matrix()\n",
    "df_01 = pd.concat([df0_s, df1_d_b],axis = 1).as_matrix()\n",
    "df_02 = pd.concat([df0_rs, df0_d_b],axis = 1).as_matrix()\n",
    "df_03 = pd.concat([df0_rs, df1_d_b],axis = 1).as_matrix()\n",
    "df_10 = pd.concat([df1_s, df0_d_b],axis = 1).as_matrix()\n",
    "df_11 = pd.concat([df1_s, df1_d_b],axis = 1).as_matrix()\n",
    "df_12 = pd.concat([df1_rs, df0_d_b],axis = 1).as_matrix()\n",
    "df_13 = pd.concat([df1_rs, df1_d_b],axis = 1).as_matrix()"
   ]
  },
  {
   "cell_type": "markdown",
   "metadata": {},
   "source": [
    "# 2 - 1. RandomForest\n",
    ": 독립변수의 중요도 파악"
   ]
  },
  {
   "cell_type": "code",
   "execution_count": 16,
   "metadata": {
    "collapsed": false
   },
   "outputs": [
    {
     "name": "stdout",
     "output_type": "stream",
     "text": [
      "Feature Ranking:\n",
      "1.feature 2 (0.150789) : RunningTime\n",
      "2.feature 3 (0.137418) : Published\n",
      "3.feature 4 (0.132080) : WholeAud\n",
      "4.feature 0 (0.121387) : PoSA\n",
      "5.feature 1 (0.108442) : Score\n",
      "6.feature 29 (0.022933) : Win\n",
      "7.feature 28 (0.019569) : BoxOffice\n",
      "8.feature 62 (0.017009) : TV\n",
      "9.feature 15 (0.015354) : SF\n",
      "10.feature 84 (0.015218) : action\n",
      "11.feature 47 (0.014966) : adventure\n",
      "12.feature 5 (0.013552) : ani\n",
      "13.feature 27 (0.013311) : comedy\n",
      "14.feature 7 (0.012422) : crime\n",
      "15.feature 21 (0.012320) : documentary\n",
      "16.feature 14 (0.011686) : drama\n",
      "17.feature 44 (0.010325) : erotic\n",
      "18.feature 6 (0.009316) : family\n",
      "19.feature 61 (0.009293) : fantasy\n",
      "20.feature 11 (0.009233) : historical\n",
      "21.feature 12 (0.008926) : horror\n",
      "22.feature 9 (0.007299) : melo\n",
      "23.feature 37 (0.006141) : mistery\n",
      "24.feature 80 (0.005827) : musical\n",
      "25.feature 18 (0.005646) : performance\n",
      "26.feature 8 (0.005555) : thriller\n",
      "27.feature 20 (0.005068) : war\n",
      "28.feature 48 (0.005059) : all\n",
      "29.feature 13 (0.004886) : over12\n",
      "30.feature 23 (0.004773) : over15\n",
      "31.feature 17 (0.004706) : argentina\n",
      "32.feature 22 (0.004380) : australia\n",
      "33.feature 25 (0.004325) : austria\n",
      "34.feature 78 (0.003876) : belgium\n",
      "35.feature 50 (0.003853) : bosnia\n",
      "36.feature 39 (0.003817) : brazil\n",
      "37.feature 53 (0.003790) : bulgaria\n",
      "38.feature 77 (0.003697) : canada\n",
      "39.feature 55 (0.003677) : chile\n",
      "40.feature 43 (0.003475) : china\n",
      "41.feature 82 (0.003074) : croatia\n",
      "42.feature 33 (0.003058) : cuba\n",
      "43.feature 73 (0.002984) : czech\n",
      "44.feature 46 (0.002800) : denmark\n",
      "45.feature 67 (0.002691) : england\n",
      "46.feature 49 (0.002541) : etc\n",
      "47.feature 51 (0.002092) : finland\n",
      "48.feature 32 (0.002044) : france\n",
      "49.feature 26 (0.002031) : germany\n",
      "50.feature 52 (0.001908) : greece\n",
      "51.feature 70 (0.001859) : hongkong\n",
      "52.feature 59 (0.001847) : hungary\n",
      "53.feature 19 (0.001723) : iceland\n",
      "54.feature 57 (0.001523) : india\n",
      "55.feature 31 (0.001469) : indonesia\n",
      "56.feature 30 (0.001407) : iran\n",
      "57.feature 24 (0.001363) : iraq\n",
      "58.feature 45 (0.001228) : irland\n",
      "59.feature 60 (0.001215) : israel\n",
      "60.feature 10 (0.001080) : it\n",
      "61.feature 81 (0.001031) : italia\n",
      "62.feature 69 (0.000816) : japan\n",
      "63.feature 64 (0.000645) : korea\n",
      "64.feature 42 (0.000487) : malaysia\n",
      "65.feature 58 (0.000326) : mexico\n",
      "66.feature 72 (0.000236) : mongolia\n",
      "67.feature 79 (0.000179) : nederland\n",
      "68.feature 66 (0.000177) : newzealand\n",
      "69.feature 76 (0.000106) : norway\n",
      "70.feature 41 (0.000106) : peru\n",
      "71.feature 56 (0.000080) : poland\n",
      "72.feature 68 (0.000070) : portugal\n",
      "73.feature 16 (0.000068) : romania\n",
      "74.feature 75 (0.000065) : russia\n",
      "75.feature 83 (0.000065) : serbia\n",
      "76.feature 38 (0.000050) : singapore\n",
      "77.feature 54 (0.000035) : southafranceica\n",
      "78.feature 65 (0.000027) : spain\n",
      "79.feature 34 (0.000027) : sweden\n",
      "80.feature 71 (0.000023) : swiss\n",
      "81.feature 35 (0.000016) : tai\n",
      "82.feature 36 (0.000014) : tailand\n",
      "83.feature 40 (0.000009) : taiwan\n",
      "84.feature 74 (0.000003) : uruguay\n",
      "85.feature 63 (0.000002) : usa\n"
     ]
    },
    {
     "data": {
      "image/png": "[encoded data removed]",
      "text/plain": [
       "<matplotlib.figure.Figure at 0xa4a8fd0>"
      ]
     },
     "metadata": {},
     "output_type": "display_data"
    }
   ],
   "source": [
    "from sklearn.ensemble import ExtraTreesClassifier\n",
    "import numpy as np\n",
    "import matplotlib.pylab as plt\n",
    "\n",
    "RF = ExtraTreesClassifier(n_estimators=250, random_state=0)\n",
    "RF.fit(df_00, y)\n",
    "\n",
    "importances = RF.feature_importances_\n",
    "\n",
    "indices = np.argsort(importances)[::-1]\n",
    "\n",
    "print \"Feature Ranking:\"\n",
    "for f in range(df_00.shape[1]):\n",
    "    print \"%d.feature %d (%f) : %s\" % (f+1, indices[f], importances[indices[f]], df00.columns[f])\n",
    "\n",
    "plt.title(\"Feature importances\")\n",
    "plt.bar(range(df_00.shape[1]), importances[indices], color=\"magenta\",  align=\"center\")\n",
    "plt.xticks(range(df_00.shape[1]), indices)\n",
    "plt.xlim([-1, df_00.shape[1]])\n",
    "plt.show()"
   ]
  },
  {
   "cell_type": "code",
   "execution_count": null,
   "metadata": {
    "collapsed": true
   },
   "outputs": [],
   "source": [
    "# numerical feature들과 binary feature들은 중요도(설명력)가 높은 것으로 보인다."
   ]
  },
  {
   "cell_type": "code",
   "execution_count": 18,
   "metadata": {
    "collapsed": false
   },
   "outputs": [
    {
     "name": "stdout",
     "output_type": "stream",
     "text": [
      "Feature Ranking:\n",
      "1.feature 2 (0.185652) : RunningTime\n",
      "2.feature 3 (0.176650) : Published\n",
      "3.feature 4 (0.163044) : WholeAud\n",
      "4.feature 0 (0.142710) : PoSA\n",
      "5.feature 1 (0.125201) : Score\n",
      "6.feature 8 (0.035820) : Win\n",
      "7.feature 11 (0.022631) : BoxOffice\n",
      "8.feature 15 (0.020358) : TV\n",
      "9.feature 10 (0.018961) : genre1\n",
      "10.feature 9 (0.015992) : all\n",
      "11.feature 16 (0.015497) : over12\n",
      "12.feature 7 (0.014056) : over15\n",
      "13.feature 5 (0.013921) : England\n",
      "14.feature 14 (0.013675) : France\n",
      "15.feature 13 (0.013602) : Japan\n",
      "16.feature 12 (0.012887) : Korea\n",
      "17.feature 6 (0.009343) : USA\n"
     ]
    },
    {
     "data": {
      "image/png": "[encoded data removed]",
      "text/plain": [
       "<matplotlib.figure.Figure at 0x6a55330>"
      ]
     },
     "metadata": {},
     "output_type": "display_data"
    }
   ],
   "source": [
    "RF = ExtraTreesClassifier(n_estimators=250, random_state=0)\n",
    "RF.fit(df_01, y)\n",
    "\n",
    "importances = RF.feature_importances_\n",
    "\n",
    "indices = np.argsort(importances)[::-1]\n",
    "\n",
    "print \"Feature Ranking:\"\n",
    "for f in range(df_01.shape[1]):\n",
    "    print \"%d.feature %d (%f) : %s\" % (f+1, indices[f], importances[indices[f]], df01.columns[f])\n",
    "    \n",
    "plt.title(\"Feature importances\")\n",
    "plt.bar(range(df_01.shape[1]), importances[indices], color=\"magenta\",  align=\"center\")\n",
    "plt.xticks(range(df_01.shape[1]), indices)\n",
    "plt.xlim([-1, df_01.shape[1]])\n",
    "plt.show()"
   ]
  },
  {
   "cell_type": "code",
   "execution_count": null,
   "metadata": {
    "collapsed": true
   },
   "outputs": [],
   "source": [
    "# modified dummies들이 큰 영향을 미치는 건 아닌 것으로 보인다.\n",
    "# 오히려 numerical features의 영향력이 더 커지는 것으로 보면 dummies를 제외해도 상관없을 것으로 생각된다."
   ]
  },
  {
   "cell_type": "markdown",
   "metadata": {},
   "source": [
    "# 2 - 2. PCA\n",
    ": 독립변수의 차원 축소"
   ]
  },
  {
   "cell_type": "code",
   "execution_count": null,
   "metadata": {
    "collapsed": true
   },
   "outputs": [],
   "source": [
    "# 실질적으로 차원이 높지 않은 feature들이기 때문에 차원축소는 필요하지 않은 것으로 예상된다.\n",
    "\n",
    "# 앞서 RandomForest를 이용해 각 변수의 중요도 결과로 미루어볼 때, \n",
    "# numerical feature들을 모두 이용하는 것이 좋을 것으로 생각된다."
   ]
  },
  {
   "cell_type": "code",
   "execution_count": 19,
   "metadata": {
    "collapsed": true
   },
   "outputs": [],
   "source": [
    "from sklearn.decomposition import PCA\n",
    "pca = PCA(n_components=15)\n",
    "df00_PCA = pca.fit(df00)"
   ]
  },
  {
   "cell_type": "code",
   "execution_count": 20,
   "metadata": {
    "collapsed": false
   },
   "outputs": [
    {
     "data": {
      "text/plain": [
       "array([ 0.23090767,  0.16598491,  0.11581449,  0.10668498,  0.08561962,\n",
       "        0.04443289,  0.03511456,  0.02937453,  0.02594829,  0.02002951,\n",
       "        0.0139716 ,  0.01246627,  0.01164165,  0.00939036,  0.00862051])"
      ]
     },
     "execution_count": 20,
     "metadata": {},
     "output_type": "execute_result"
    }
   ],
   "source": [
    "df00_PCA.explained_variance_ratio_"
   ]
  },
  {
   "cell_type": "code",
   "execution_count": null,
   "metadata": {
    "collapsed": true
   },
   "outputs": [],
   "source": [
    "# 차원 축소를 했을 때, 적은 차원의 수로 좋은 설명력을 가지고 있지 않으므로 PCA는 PASS"
   ]
  },
  {
   "cell_type": "code",
   "execution_count": 21,
   "metadata": {
    "collapsed": false
   },
   "outputs": [],
   "source": [
    "df00.to_excel(\"Feature_Optimized_df0_s_all.xlsx\") \n",
    "df01.to_excel(\"Feature_Optimized_df0_s_M_all.xlsx\") \n",
    "df02.to_excel(\"Feature_Optimized_df0_rs_all.xlsx\") \n",
    "df03.to_excel(\"Feature_Optimized_df0_rs_M_all.xlsx\") \n",
    "df10.to_excel(\"Feature_Optimized_df1_s_all.xlsx\") \n",
    "df11.to_excel(\"Feature_Optimized_df1_s_M_all.xlsx\") \n",
    "df12.to_excel(\"Feature_Optimized_df1_rs_all.xlsx\") \n",
    "df13.to_excel(\"Feature_Optimized_df1_rs_M_all.xlsx\") "
   ]
  }
 ],
 "metadata": {
  "kernelspec": {
   "display_name": "Python 2",
   "language": "python",
   "name": "python2"
  },
  "language_info": {
   "codemirror_mode": {
    "name": "ipython",
    "version": 2
   },
   "file_extension": ".py",
   "mimetype": "text/x-python",
   "name": "python",
   "nbconvert_exporter": "python",
   "pygments_lexer": "ipython2",
   "version": "2.7.12"
  }
 },
 "nbformat": 4,
 "nbformat_minor": 1
}
